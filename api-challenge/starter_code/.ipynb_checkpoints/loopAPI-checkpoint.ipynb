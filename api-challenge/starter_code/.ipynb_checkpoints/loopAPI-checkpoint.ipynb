{
 "cells": [
  {
   "cell_type": "code",
   "execution_count": null,
   "metadata": {},
   "outputs": [],
   "source": [
    "import json\n",
    "import pandas as pd\n",
    "import numpy as np\n",
    "import requests\n",
    "from config import api_key1 \n",
    "#create config.py file with your key, and add a .gitignore file with the name of the credential \n",
    "#file (i.e. config.py) so that your key isn't exposed to the world on GitHub if pushing there.\n",
    "def search_grocers(set_num): \n",
    "# This function launches the request for all grocery location endpoints in San Francisco, CA.\n",
    "\n",
    "    url = 'https://api.yelp.com/v3/businesses/search'\n",
    "    headers = {\n",
    "        'Authorization': 'Bearer {}'.format(api_key1),\n",
    "    }\n",
    "    url_params = { #parameters passed to the API\n",
    "    \"categories\": 'grocery, All',\n",
    "    \"location\":\"San Francisco\",\n",
    "    \"state\": \"California\",\n",
    "    'offset': offset_num, # We are going to iterate the offset\n",
    "     \"limit\":50 # Maximum return of results per request (ref: API documentation).\n",
    "     }\n",
    "\n",
    "    response = requests.get(url, headers=headers, params=url_params)\n",
    "    return response.json() # Returns a JSON.\n",
    "\n",
    "\n",
    "if __name__ == \"__main__\":\n",
    "    for offset_num in np.arange(50,550,50) : \n",
    "# I want up to 550 results, in steps of 50 results per request.\n",
    "        try:\n",
    "            output_json = search_grocers(offset_num) # Executing the function defined above.\n",
    "            print(offset_num) # Making sure each offset iteration is running\n",
    "            print(output_json) # If you wanna check the JSON for each iteration\n",
    "            if offset_num == 50:\n",
    "                df_first = pd.DataFrame.from_dict(output_json['businesses'])\n",
    "# 'businesses' because that's the primary key of the JSON (i.e. pull all attribute data by calling \n",
    "# that one key). This is something you can figure out reading the API documentation or visually\n",
    "# parsing the JSON. \n",
    "            else:\n",
    "                df2 = pd.DataFrame.from_dict(output_json['businesses'])\n",
    "                df_first = df_first.append(df2)\n",
    "# The conditional statement above is so that I can append my results into a single dataframe, to \n",
    "# save into a single csv document.\n",
    "        except AttributeError:\n",
    "            print(\"error at \", offset_num) # Helpful for debugging purposes\n",
    "            \n",
    "    df_first.to_csv(\"yelp_data/output_data.csv\", index = False)"
   ]
  }
 ],
 "metadata": {
  "kernelspec": {
   "display_name": "Python [conda env:PythonData] *",
   "language": "python",
   "name": "conda-env-PythonData-py"
  },
  "language_info": {
   "codemirror_mode": {
    "name": "ipython",
    "version": 3
   },
   "file_extension": ".py",
   "mimetype": "text/x-python",
   "name": "python",
   "nbconvert_exporter": "python",
   "pygments_lexer": "ipython3",
   "version": "3.6.12"
  }
 },
 "nbformat": 4,
 "nbformat_minor": 4
}
