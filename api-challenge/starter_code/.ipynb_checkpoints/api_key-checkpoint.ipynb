{
 "cells": [
  {
   "cell_type": "code",
   "execution_count": null,
   "metadata": {},
   "outputs": [],
   "source": [
    "\n",
    "#Crime Key\n",
    "crime_key =\"Z4LKYIAUUgns6PbVKY8q4V6e1dScfRaA8CoAHeYt\"\n",
    "\n",
    "#crime key\n",
    "api_key =\"iiHnOKfno2Mgkt5AynpvPpUQTEyxE77jo1RU8PIv\"c"
   ]
  }
 ],
 "metadata": {
  "kernelspec": {
   "display_name": "Python 3",
   "language": "python",
   "name": "python3"
  },
  "language_info": {
   "codemirror_mode": {
    "name": "ipython",
    "version": 3
   },
   "file_extension": ".py",
   "mimetype": "text/x-python",
   "name": "python",
   "nbconvert_exporter": "python",
   "pygments_lexer": "ipython3",
   "version": "3.6.12"
  }
 },
 "nbformat": 4,
 "nbformat_minor": 4
}
