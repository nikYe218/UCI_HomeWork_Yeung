{
 "cells": [
  {
   "cell_type": "markdown",
   "metadata": {},
   "source": [
    "# VacationPy\n",
    "----\n",
    "\n",
    "#### Note\n",
    "* Keep an eye on your API usage. Use https://developers.google.com/maps/reporting/gmp-reporting as reference for how to monitor your usage and billing.\n",
    "\n",
    "* Instructions have been included for each segment. You do not have to follow them exactly, but they are included to help you think through the steps."
   ]
  },
  {
   "cell_type": "code",
   "execution_count": 13,
   "metadata": {},
   "outputs": [],
   "source": [
    "import warnings\n",
    "warnings.filterwarnings('ignore')\n",
    "# Dependencies and Setup\n",
    "import matplotlib.pyplot as plt\n",
    "import pandas as pd\n",
    "import numpy as np\n",
    "import requests\n",
    "import gmaps\n",
    "import os\n",
    "import json\n",
    "import warnings \n",
    "\n",
    "# Import API key\n",
    "from api_keys import g_key"
   ]
  },
  {
   "cell_type": "markdown",
   "metadata": {},
   "source": [
    "### Store Part I results into DataFrame\n",
    "* Load the csv exported in Part I to a DataFrame"
   ]
  },
  {
   "cell_type": "code",
   "execution_count": 14,
   "metadata": {
    "scrolled": true
   },
   "outputs": [
    {
     "data": {
      "text/html": [
       "<div>\n",
       "<style scoped>\n",
       "    .dataframe tbody tr th:only-of-type {\n",
       "        vertical-align: middle;\n",
       "    }\n",
       "\n",
       "    .dataframe tbody tr th {\n",
       "        vertical-align: top;\n",
       "    }\n",
       "\n",
       "    .dataframe thead th {\n",
       "        text-align: right;\n",
       "    }\n",
       "</style>\n",
       "<table border=\"1\" class=\"dataframe\">\n",
       "  <thead>\n",
       "    <tr style=\"text-align: right;\">\n",
       "      <th></th>\n",
       "      <th>City_ID</th>\n",
       "      <th>City</th>\n",
       "      <th>Cloudiness</th>\n",
       "      <th>Country</th>\n",
       "      <th>Date</th>\n",
       "      <th>Humidity</th>\n",
       "      <th>Lat</th>\n",
       "      <th>Lng</th>\n",
       "      <th>Max Temp</th>\n",
       "      <th>Wind Speed</th>\n",
       "    </tr>\n",
       "  </thead>\n",
       "  <tbody>\n",
       "    <tr>\n",
       "      <th>0</th>\n",
       "      <td>1526038</td>\n",
       "      <td>Atbasar</td>\n",
       "      <td>100</td>\n",
       "      <td>KZ</td>\n",
       "      <td>1603573864</td>\n",
       "      <td>97</td>\n",
       "      <td>51.80</td>\n",
       "      <td>68.33</td>\n",
       "      <td>32.49</td>\n",
       "      <td>23.73</td>\n",
       "    </tr>\n",
       "    <tr>\n",
       "      <th>1</th>\n",
       "      <td>5122534</td>\n",
       "      <td>Jamestown</td>\n",
       "      <td>90</td>\n",
       "      <td>US</td>\n",
       "      <td>1603573087</td>\n",
       "      <td>75</td>\n",
       "      <td>42.10</td>\n",
       "      <td>-79.24</td>\n",
       "      <td>44.01</td>\n",
       "      <td>8.05</td>\n",
       "    </tr>\n",
       "    <tr>\n",
       "      <th>2</th>\n",
       "      <td>2152659</td>\n",
       "      <td>Port Macquarie</td>\n",
       "      <td>50</td>\n",
       "      <td>AU</td>\n",
       "      <td>1603573864</td>\n",
       "      <td>99</td>\n",
       "      <td>-31.43</td>\n",
       "      <td>152.92</td>\n",
       "      <td>66.99</td>\n",
       "      <td>1.99</td>\n",
       "    </tr>\n",
       "    <tr>\n",
       "      <th>3</th>\n",
       "      <td>5746545</td>\n",
       "      <td>Portland</td>\n",
       "      <td>75</td>\n",
       "      <td>US</td>\n",
       "      <td>1603573076</td>\n",
       "      <td>57</td>\n",
       "      <td>45.52</td>\n",
       "      <td>-122.68</td>\n",
       "      <td>51.01</td>\n",
       "      <td>18.34</td>\n",
       "    </tr>\n",
       "    <tr>\n",
       "      <th>4</th>\n",
       "      <td>4031574</td>\n",
       "      <td>Provideniya</td>\n",
       "      <td>76</td>\n",
       "      <td>RU</td>\n",
       "      <td>1603573865</td>\n",
       "      <td>89</td>\n",
       "      <td>64.38</td>\n",
       "      <td>-173.30</td>\n",
       "      <td>33.82</td>\n",
       "      <td>15.21</td>\n",
       "    </tr>\n",
       "  </tbody>\n",
       "</table>\n",
       "</div>"
      ],
      "text/plain": [
       "   City_ID            City  Cloudiness Country        Date  Humidity    Lat  \\\n",
       "0  1526038         Atbasar         100      KZ  1603573864        97  51.80   \n",
       "1  5122534       Jamestown          90      US  1603573087        75  42.10   \n",
       "2  2152659  Port Macquarie          50      AU  1603573864        99 -31.43   \n",
       "3  5746545        Portland          75      US  1603573076        57  45.52   \n",
       "4  4031574     Provideniya          76      RU  1603573865        89  64.38   \n",
       "\n",
       "      Lng  Max Temp  Wind Speed  \n",
       "0   68.33     32.49       23.73  \n",
       "1  -79.24     44.01        8.05  \n",
       "2  152.92     66.99        1.99  \n",
       "3 -122.68     51.01       18.34  \n",
       "4 -173.30     33.82       15.21  "
      ]
     },
     "execution_count": 14,
     "metadata": {},
     "output_type": "execute_result"
    }
   ],
   "source": [
    "datafile =pd.read_csv (\"../output_data/mycitydata.csv\")\n",
    "\n",
    "datafile.head()"
   ]
  },
  {
   "cell_type": "markdown",
   "metadata": {},
   "source": [
    "### Humidity Heatmap\n",
    "* Configure gmaps.\n",
    "* Use the Lat and Lng as locations and Humidity as the weight.\n",
    "* Add Heatmap layer to map."
   ]
  },
  {
   "cell_type": "code",
   "execution_count": 15,
   "metadata": {
    "scrolled": false
   },
   "outputs": [
    {
     "data": {
      "application/vnd.jupyter.widget-view+json": {
       "model_id": "9265facbc82b4cefa416ade6afe29839",
       "version_major": 2,
       "version_minor": 0
      },
      "text/plain": [
       "Figure(layout=FigureLayout(height='420px'))"
      ]
     },
     "metadata": {},
     "output_type": "display_data"
    }
   ],
   "source": [
    "#Configure Heatmap\n",
    "gmaps.configure(api_key=g_key)\n",
    "\n",
    "# Store 'Lat' and 'Lng' into  locations \n",
    "locations = datafile[[\"Lat\", \"Lng\"]].astype(float)\n",
    "humidity = datafile[\"Humidity\"].astype(float)\n",
    "\n",
    "fig = gmaps.figure()\n",
    "# create map\n",
    "heat_layer = gmaps.heatmap_layer(locations, weights=humidity, \n",
    "                                 dissipating=False, max_intensity=100,\n",
    "                                 point_radius = 2)\n",
    "# add layer\n",
    "fig.add_layer(heat_layer)\n",
    "# show map\n",
    "fig"
   ]
  },
  {
   "cell_type": "markdown",
   "metadata": {},
   "source": [
    "### Create new DataFrame fitting weather criteria\n",
    "* Narrow down the cities to fit weather conditions.\n",
    "* Drop any rows will null values."
   ]
  },
  {
   "cell_type": "code",
   "execution_count": 16,
   "metadata": {
    "scrolled": false
   },
   "outputs": [
    {
     "data": {
      "text/html": [
       "<div>\n",
       "<style scoped>\n",
       "    .dataframe tbody tr th:only-of-type {\n",
       "        vertical-align: middle;\n",
       "    }\n",
       "\n",
       "    .dataframe tbody tr th {\n",
       "        vertical-align: top;\n",
       "    }\n",
       "\n",
       "    .dataframe thead th {\n",
       "        text-align: right;\n",
       "    }\n",
       "</style>\n",
       "<table border=\"1\" class=\"dataframe\">\n",
       "  <thead>\n",
       "    <tr style=\"text-align: right;\">\n",
       "      <th></th>\n",
       "      <th>City</th>\n",
       "      <th>Max Temp</th>\n",
       "      <th>Cloudiness</th>\n",
       "      <th>Humidity</th>\n",
       "      <th>Lat</th>\n",
       "      <th>Lng</th>\n",
       "      <th>Country</th>\n",
       "    </tr>\n",
       "  </thead>\n",
       "  <tbody>\n",
       "    <tr>\n",
       "      <th>0</th>\n",
       "      <td>Atbasar</td>\n",
       "      <td>32.49</td>\n",
       "      <td>100</td>\n",
       "      <td>97</td>\n",
       "      <td>51.80</td>\n",
       "      <td>68.33</td>\n",
       "      <td>KZ</td>\n",
       "    </tr>\n",
       "    <tr>\n",
       "      <th>1</th>\n",
       "      <td>Jamestown</td>\n",
       "      <td>44.01</td>\n",
       "      <td>90</td>\n",
       "      <td>75</td>\n",
       "      <td>42.10</td>\n",
       "      <td>-79.24</td>\n",
       "      <td>US</td>\n",
       "    </tr>\n",
       "    <tr>\n",
       "      <th>2</th>\n",
       "      <td>Port Macquarie</td>\n",
       "      <td>66.99</td>\n",
       "      <td>50</td>\n",
       "      <td>99</td>\n",
       "      <td>-31.43</td>\n",
       "      <td>152.92</td>\n",
       "      <td>AU</td>\n",
       "    </tr>\n",
       "    <tr>\n",
       "      <th>3</th>\n",
       "      <td>Portland</td>\n",
       "      <td>51.01</td>\n",
       "      <td>75</td>\n",
       "      <td>57</td>\n",
       "      <td>45.52</td>\n",
       "      <td>-122.68</td>\n",
       "      <td>US</td>\n",
       "    </tr>\n",
       "    <tr>\n",
       "      <th>4</th>\n",
       "      <td>Provideniya</td>\n",
       "      <td>33.82</td>\n",
       "      <td>76</td>\n",
       "      <td>89</td>\n",
       "      <td>64.38</td>\n",
       "      <td>-173.30</td>\n",
       "      <td>RU</td>\n",
       "    </tr>\n",
       "  </tbody>\n",
       "</table>\n",
       "</div>"
      ],
      "text/plain": [
       "             City  Max Temp  Cloudiness  Humidity    Lat     Lng Country\n",
       "0         Atbasar     32.49         100        97  51.80   68.33      KZ\n",
       "1       Jamestown     44.01          90        75  42.10  -79.24      US\n",
       "2  Port Macquarie     66.99          50        99 -31.43  152.92      AU\n",
       "3        Portland     51.01          75        57  45.52 -122.68      US\n",
       "4     Provideniya     33.82          76        89  64.38 -173.30      RU"
      ]
     },
     "execution_count": 16,
     "metadata": {},
     "output_type": "execute_result"
    }
   ],
   "source": [
    "new_df = pd.DataFrame(datafile, columns = ['City', 'Max Temp','Cloudiness','Humidity','Lat','Lng','Country'])\n",
    "new_df.head()"
   ]
  },
  {
   "cell_type": "code",
   "execution_count": 17,
   "metadata": {
    "scrolled": false
   },
   "outputs": [
    {
     "data": {
      "text/html": [
       "<div>\n",
       "<style scoped>\n",
       "    .dataframe tbody tr th:only-of-type {\n",
       "        vertical-align: middle;\n",
       "    }\n",
       "\n",
       "    .dataframe tbody tr th {\n",
       "        vertical-align: top;\n",
       "    }\n",
       "\n",
       "    .dataframe thead th {\n",
       "        text-align: right;\n",
       "    }\n",
       "</style>\n",
       "<table border=\"1\" class=\"dataframe\">\n",
       "  <thead>\n",
       "    <tr style=\"text-align: right;\">\n",
       "      <th></th>\n",
       "      <th>City</th>\n",
       "      <th>Max Temp</th>\n",
       "      <th>Cloudiness</th>\n",
       "      <th>Humidity</th>\n",
       "      <th>Lat</th>\n",
       "      <th>Lng</th>\n",
       "      <th>Country</th>\n",
       "    </tr>\n",
       "  </thead>\n",
       "  <tbody>\n",
       "    <tr>\n",
       "      <th>190</th>\n",
       "      <td>Montrose</td>\n",
       "      <td>70.00</td>\n",
       "      <td>1</td>\n",
       "      <td>19</td>\n",
       "      <td>38.42</td>\n",
       "      <td>-108.27</td>\n",
       "      <td>US</td>\n",
       "    </tr>\n",
       "    <tr>\n",
       "      <th>203</th>\n",
       "      <td>Saint George</td>\n",
       "      <td>79.00</td>\n",
       "      <td>1</td>\n",
       "      <td>28</td>\n",
       "      <td>37.10</td>\n",
       "      <td>-113.58</td>\n",
       "      <td>US</td>\n",
       "    </tr>\n",
       "    <tr>\n",
       "      <th>353</th>\n",
       "      <td>Pueblo</td>\n",
       "      <td>78.01</td>\n",
       "      <td>1</td>\n",
       "      <td>27</td>\n",
       "      <td>38.25</td>\n",
       "      <td>-104.61</td>\n",
       "      <td>US</td>\n",
       "    </tr>\n",
       "    <tr>\n",
       "      <th>534</th>\n",
       "      <td>Nālūt</td>\n",
       "      <td>71.55</td>\n",
       "      <td>17</td>\n",
       "      <td>26</td>\n",
       "      <td>30.33</td>\n",
       "      <td>10.85</td>\n",
       "      <td>LY</td>\n",
       "    </tr>\n",
       "  </tbody>\n",
       "</table>\n",
       "</div>"
      ],
      "text/plain": [
       "             City  Max Temp  Cloudiness  Humidity    Lat     Lng Country\n",
       "190      Montrose     70.00           1        19  38.42 -108.27      US\n",
       "203  Saint George     79.00           1        28  37.10 -113.58      US\n",
       "353        Pueblo     78.01           1        27  38.25 -104.61      US\n",
       "534         Nālūt     71.55          17        26  30.33   10.85      LY"
      ]
     },
     "execution_count": 17,
     "metadata": {},
     "output_type": "execute_result"
    }
   ],
   "source": [
    "# City that has the weather of my choice\n",
    "hotel_df = new_df.loc[(new_df['Max Temp']>56) & (new_df['Max Temp']<80) & (new_df['Cloudiness']>0) \n",
    "                          & (new_df['Cloudiness']<40) & (new_df['Humidity']<30)]\n",
    "\n",
    "hotel_df"
   ]
  },
  {
   "cell_type": "markdown",
   "metadata": {},
   "source": [
    "### Hotel Map\n",
    "* Store into variable named `hotel_df`.\n",
    "* Add a \"Hotel Name\" column to the DataFrame.\n",
    "* Set parameters to search for hotels with 5000 meters.\n",
    "* Hit the Google Places API for each city's coordinates.\n",
    "* Store the first Hotel result into the DataFrame.\n",
    "* Plot markers on top of the heatmap."
   ]
  },
  {
   "cell_type": "code",
   "execution_count": 18,
   "metadata": {
    "scrolled": true
   },
   "outputs": [
    {
     "data": {
      "text/html": [
       "<div>\n",
       "<style scoped>\n",
       "    .dataframe tbody tr th:only-of-type {\n",
       "        vertical-align: middle;\n",
       "    }\n",
       "\n",
       "    .dataframe tbody tr th {\n",
       "        vertical-align: top;\n",
       "    }\n",
       "\n",
       "    .dataframe thead th {\n",
       "        text-align: right;\n",
       "    }\n",
       "</style>\n",
       "<table border=\"1\" class=\"dataframe\">\n",
       "  <thead>\n",
       "    <tr style=\"text-align: right;\">\n",
       "      <th></th>\n",
       "      <th>City</th>\n",
       "      <th>Max Temp</th>\n",
       "      <th>Cloudiness</th>\n",
       "      <th>Humidity</th>\n",
       "      <th>Lat</th>\n",
       "      <th>Lng</th>\n",
       "      <th>Country</th>\n",
       "      <th>Hotel Name</th>\n",
       "    </tr>\n",
       "  </thead>\n",
       "  <tbody>\n",
       "    <tr>\n",
       "      <th>190</th>\n",
       "      <td>Montrose</td>\n",
       "      <td>70.00</td>\n",
       "      <td>1</td>\n",
       "      <td>19</td>\n",
       "      <td>38.42</td>\n",
       "      <td>-108.27</td>\n",
       "      <td>US</td>\n",
       "      <td></td>\n",
       "    </tr>\n",
       "    <tr>\n",
       "      <th>203</th>\n",
       "      <td>Saint George</td>\n",
       "      <td>79.00</td>\n",
       "      <td>1</td>\n",
       "      <td>28</td>\n",
       "      <td>37.10</td>\n",
       "      <td>-113.58</td>\n",
       "      <td>US</td>\n",
       "      <td></td>\n",
       "    </tr>\n",
       "    <tr>\n",
       "      <th>353</th>\n",
       "      <td>Pueblo</td>\n",
       "      <td>78.01</td>\n",
       "      <td>1</td>\n",
       "      <td>27</td>\n",
       "      <td>38.25</td>\n",
       "      <td>-104.61</td>\n",
       "      <td>US</td>\n",
       "      <td></td>\n",
       "    </tr>\n",
       "    <tr>\n",
       "      <th>534</th>\n",
       "      <td>Nālūt</td>\n",
       "      <td>71.55</td>\n",
       "      <td>17</td>\n",
       "      <td>26</td>\n",
       "      <td>30.33</td>\n",
       "      <td>10.85</td>\n",
       "      <td>LY</td>\n",
       "      <td></td>\n",
       "    </tr>\n",
       "  </tbody>\n",
       "</table>\n",
       "</div>"
      ],
      "text/plain": [
       "             City  Max Temp  Cloudiness  Humidity    Lat     Lng Country  \\\n",
       "190      Montrose     70.00           1        19  38.42 -108.27      US   \n",
       "203  Saint George     79.00           1        28  37.10 -113.58      US   \n",
       "353        Pueblo     78.01           1        27  38.25 -104.61      US   \n",
       "534         Nālūt     71.55          17        26  30.33   10.85      LY   \n",
       "\n",
       "    Hotel Name  \n",
       "190             \n",
       "203             \n",
       "353             \n",
       "534             "
      ]
     },
     "execution_count": 18,
     "metadata": {},
     "output_type": "execute_result"
    }
   ],
   "source": [
    "# Hotel variable \n",
    "hotel_df[\"Hotel Name\"] = \"\"\n",
    "hotel_df"
   ]
  },
  {
   "cell_type": "code",
   "execution_count": 19,
   "metadata": {},
   "outputs": [
    {
     "name": "stdout",
     "output_type": "stream",
     "text": [
      "Hotel Not Found\n",
      "Hotel Not Found\n",
      "------End Run Code---------\n"
     ]
    }
   ],
   "source": [
    "for index, row in hotel_df.iterrows():\n",
    "    lat =  row[\"Lat\"]\n",
    "    lng =  row[\"Lng\"]\n",
    "    \n",
    "    #check to see if coor is pulled\n",
    "    #print((f\"{lat},{lng}\"))\n",
    "    \n",
    "    # geocoordinates\n",
    "    target_coordinates = (f\"{lat},{lng}\")\n",
    "    #target_search = \"Chinese\"\n",
    "    target_radius = 5000\n",
    "    target_type = \"lodging\"\n",
    "\n",
    "    # set up a parameters dictionary\n",
    "    params = {\n",
    "            \"location\":target_coordinates,\n",
    "            \"radius\": target_radius,\n",
    "            \"type\": target_type,\n",
    "            \"key\": g_key\n",
    "    }\n",
    "    \n",
    "    \n",
    "    #print(params)\n",
    "    \n",
    "    # base url\n",
    "    base_url = \"https://maps.googleapis.com/maps/api/place/nearbysearch/json\"\n",
    "\n",
    "    # run a request using my params dictionary\n",
    "    hotel_resp = requests.get(base_url, params=params).json()\n",
    "\n",
    "    # print pretty data\n",
    "    #print(json.dumps(hotel_resp, indent=4, sort_keys=True))\n",
    "                           \n",
    "    try: \n",
    "  \n",
    "       hotel_df.loc[index,'Hotel Name'] =hotel_resp[\"results\"][0][\"name\"]\n",
    "    except: \n",
    "       print(\"Hotel Not Found\")\n",
    "print(\"------End Run Code---------\")\n"
   ]
  },
  {
   "cell_type": "code",
   "execution_count": 24,
   "metadata": {
    "scrolled": true
   },
   "outputs": [
    {
     "data": {
      "text/html": [
       "<div>\n",
       "<style scoped>\n",
       "    .dataframe tbody tr th:only-of-type {\n",
       "        vertical-align: middle;\n",
       "    }\n",
       "\n",
       "    .dataframe tbody tr th {\n",
       "        vertical-align: top;\n",
       "    }\n",
       "\n",
       "    .dataframe thead th {\n",
       "        text-align: right;\n",
       "    }\n",
       "</style>\n",
       "<table border=\"1\" class=\"dataframe\">\n",
       "  <thead>\n",
       "    <tr style=\"text-align: right;\">\n",
       "      <th></th>\n",
       "      <th>City</th>\n",
       "      <th>Max Temp</th>\n",
       "      <th>Cloudiness</th>\n",
       "      <th>Humidity</th>\n",
       "      <th>Lat</th>\n",
       "      <th>Lng</th>\n",
       "      <th>Country</th>\n",
       "      <th>Hotel Name</th>\n",
       "    </tr>\n",
       "  </thead>\n",
       "  <tbody>\n",
       "    <tr>\n",
       "      <th>203</th>\n",
       "      <td>Saint George</td>\n",
       "      <td>79.00</td>\n",
       "      <td>1</td>\n",
       "      <td>28</td>\n",
       "      <td>37.10</td>\n",
       "      <td>-113.58</td>\n",
       "      <td>US</td>\n",
       "      <td>Best Western Plus Abbey Inn</td>\n",
       "    </tr>\n",
       "    <tr>\n",
       "      <th>353</th>\n",
       "      <td>Pueblo</td>\n",
       "      <td>78.01</td>\n",
       "      <td>1</td>\n",
       "      <td>27</td>\n",
       "      <td>38.25</td>\n",
       "      <td>-104.61</td>\n",
       "      <td>US</td>\n",
       "      <td>Hampton Inn &amp; Suites Pueblo-Southgate</td>\n",
       "    </tr>\n",
       "  </tbody>\n",
       "</table>\n",
       "</div>"
      ],
      "text/plain": [
       "             City  Max Temp  Cloudiness  Humidity    Lat     Lng Country  \\\n",
       "203  Saint George     79.00           1        28  37.10 -113.58      US   \n",
       "353        Pueblo     78.01           1        27  38.25 -104.61      US   \n",
       "\n",
       "                                Hotel Name  \n",
       "203            Best Western Plus Abbey Inn  \n",
       "353  Hampton Inn & Suites Pueblo-Southgate  "
      ]
     },
     "execution_count": 24,
     "metadata": {},
     "output_type": "execute_result"
    }
   ],
   "source": [
    "# Clean dataset \n",
    "hotel_df['Hotel Name'].replace('', np.nan, inplace=True)\n",
    "hotel_df.dropna(subset=['Hotel Name'], inplace=True)\n",
    "hotel_df"
   ]
  },
  {
   "cell_type": "code",
   "execution_count": 25,
   "metadata": {},
   "outputs": [
    {
     "data": {
      "application/vnd.jupyter.widget-view+json": {
       "model_id": "5ec0a1232f2649fa9b0f815dd0e0baa5",
       "version_major": 2,
       "version_minor": 0
      },
      "text/plain": [
       "Figure(layout=FigureLayout(height='420px'))"
      ]
     },
     "metadata": {},
     "output_type": "display_data"
    }
   ],
   "source": [
    "#Configure My Weather - Hotel Heatmap\n",
    "# Create Hotel symbol layer\n",
    "gmaps.configure(api_key=g_key)\n",
    "\n",
    "\n",
    "\n",
    "# Store 'Lat' and 'Lng' into  locations \n",
    "locations = hotel_df[[\"Lat\", \"Lng\"]].astype(float)\n",
    "humidity = hotel_df[\"Humidity\"].astype(float)\n",
    "\n",
    "\n",
    "figMap = gmaps.figure()\n",
    "# create map\n",
    "heat_layer = gmaps.heatmap_layer(locations, weights=humidity, \n",
    "                                 dissipating=False, max_intensity=100,\n",
    "                                 point_radius = 2)\n",
    "\n",
    "\n",
    "# add layer\n",
    "figMap.add_layer(heat_layer)\n",
    "\n",
    "# show map\n",
    "figMap"
   ]
  },
  {
   "cell_type": "code",
   "execution_count": 26,
   "metadata": {},
   "outputs": [],
   "source": [
    "# NOTE: Do not change any of the code in this cell\n",
    "\n",
    "# Using the template add the hotel marks to the heatmap\n",
    "info_box_template = \"\"\"\n",
    "<dl>\n",
    "<dt>Name</dt><dd>{Hotel Name}</dd>\n",
    "<dt>City</dt><dd>{City}</dd>\n",
    "<dt>Country</dt><dd>{Country}</dd>\n",
    "</dl>\n",
    "\"\"\"\n",
    "# Store the DataFrame Row\n",
    "# NOTE: be sure to update with your DataFrame name\n",
    "hotel_info = [info_box_template.format(**row) for index, row in hotel_df.iterrows()]\n",
    "locations = hotel_df[[\"Lat\", \"Lng\"]]\n"
   ]
  },
  {
   "cell_type": "code",
   "execution_count": 28,
   "metadata": {
    "scrolled": false
   },
   "outputs": [
    {
     "data": {
      "application/vnd.jupyter.widget-view+json": {
       "model_id": "e94b85cdc4fc48db978cf237d165b6a0",
       "version_major": 2,
       "version_minor": 0
      },
      "text/plain": [
       "Figure(layout=FigureLayout(height='420px'))"
      ]
     },
     "metadata": {},
     "output_type": "display_data"
    }
   ],
   "source": [
    "# Add marker layer ontop of heat map\n",
    "figMap = gmaps.figure(map_type='SATELLITE')\n",
    "hotelmarkers = gmaps.marker_layer(locations,info_box_content=hotel_info)\n",
    "\n",
    "figMap.add_layer(hotelmarkers)\n",
    "\n",
    "figMap\n",
    "\n"
   ]
  },
  {
   "cell_type": "code",
   "execution_count": null,
   "metadata": {},
   "outputs": [],
   "source": [
    "results_path = 'MapHotel.png'\n",
    "#print(results_path)\n",
    "plt.savefig(\"../Images/results_path\")"
   ]
  },
  {
   "cell_type": "code",
   "execution_count": null,
   "metadata": {},
   "outputs": [],
   "source": []
  }
 ],
 "metadata": {
  "kernelspec": {
   "display_name": "Python [conda env:PythonData] *",
   "language": "python",
   "name": "conda-env-PythonData-py"
  },
  "language_info": {
   "codemirror_mode": {
    "name": "ipython",
    "version": 3
   },
   "file_extension": ".py",
   "mimetype": "text/x-python",
   "name": "python",
   "nbconvert_exporter": "python",
   "pygments_lexer": "ipython3",
   "version": "3.6.12"
  },
  "latex_envs": {
   "LaTeX_envs_menu_present": true,
   "autoclose": false,
   "autocomplete": true,
   "bibliofile": "biblio.bib",
   "cite_by": "apalike",
   "current_citInitial": 1,
   "eqLabelWithNumbers": true,
   "eqNumInitial": 1,
   "hotkeys": {
    "equation": "Ctrl-E",
    "itemize": "Ctrl-I"
   },
   "labels_anchors": false,
   "latex_user_defs": false,
   "report_style_numbering": false,
   "user_envs_cfg": false
  }
 },
 "nbformat": 4,
 "nbformat_minor": 4
}
