{
 "cells": [
  {
   "cell_type": "code",
   "execution_count": 1,
   "metadata": {},
   "outputs": [],
   "source": [
    "import pandas as pd\n",
    "from splinter import Browser\n",
    "from bs4 import BeautifulSoup\n",
    "from webdriver_manager.chrome import ChromeDriverManager\n",
    "from selenium.webdriver.common.keys import Keys\n",
    "import time\n",
    "from urllib.parse import urlparse\n",
    "import cssutils"
   ]
  },
  {
   "cell_type": "code",
   "execution_count": 2,
   "metadata": {},
   "outputs": [
    {
     "name": "stderr",
     "output_type": "stream",
     "text": [
      "[WDM] - Current google-chrome version is 87.0.4280\n",
      "[WDM] - Get LATEST driver version for 87.0.4280\n",
      "[WDM] - Driver [C:\\Users\\nikDev\\.wdm\\drivers\\chromedriver\\win32\\87.0.4280.88\\chromedriver.exe] found in cache\n"
     ]
    },
    {
     "name": "stdout",
     "output_type": "stream",
     "text": [
      " \n"
     ]
    }
   ],
   "source": [
    "# Setup splinter\n",
    "# Windows users might get a network access popup here\n",
    "executable_path = {'executable_path': ChromeDriverManager().install()}\n",
    "browser = Browser('chrome', **executable_path, headless=False)"
   ]
  },
  {
   "cell_type": "code",
   "execution_count": 16,
   "metadata": {},
   "outputs": [
    {
     "name": "stdout",
     "output_type": "stream",
     "text": [
      "{'title': 'MOXIE Could Help Future Rockets Launch Off Mars', 'paragraph': \"NASA's Perseverance rover carries a device to convert Martian air into oxygen that, if produced on a larger scale, could be used not just for breathing, but also for fuel.\"}\n"
     ]
    }
   ],
   "source": [
    "url = \"https://mars.nasa.gov/news/\"\n",
    "browser.visit(url)\n",
    "    \n",
    "time.sleep(1)\n",
    "\n",
    "html = browser.html\n",
    "soup = BeautifulSoup(html, \"html.parser\")\n",
    "\n",
    "# Get the lastest news title\n",
    "news_title = soup.find('h3', attrs={'class': None}).get_text()\n",
    "\n",
    "# Get the lastest paragraph text\n",
    "news_p = soup.find(\"div\", class_=\"article_teaser_body\").get_text()\n",
    "    \n",
    "# add to dictionary\n",
    "mars_data ={}\n",
    "mars_data['title']= news_title\n",
    "mars_data['paragraph']=news_p\n",
    "\n",
    "print(mars_data)\n"
   ]
  },
  {
   "cell_type": "code",
   "execution_count": 35,
   "metadata": {},
   "outputs": [
    {
     "name": "stdout",
     "output_type": "stream",
     "text": [
      "https://www.jpl.nasa.gov\n",
      "<article alt=\"A Ring of Color\" class=\"carousel_item\" style=\"background-image: url('/spaceimages/images/wallpaper/PIA14924-1920x1200.jpg');\">\n",
      "<div class=\"default floating_text_area ms-layer\">\n",
      "<h2 class=\"category_title\">\n",
      "</h2>\n",
      "<h2 class=\"brand_title\">\n",
      "\t\t\t\t  FEATURED IMAGE\n",
      "\t\t\t\t</h2>\n",
      "<h1 class=\"media_feature_title\">\n",
      "\t\t\t\t  A Ring of Color\t\t\t\t</h1>\n",
      "<div class=\"description\">\n",
      "</div>\n",
      "<footer>\n",
      "<a class=\"button fancybox\" data-description=\"NASA's Cassini spacecraft looks toward the night side of Saturn's largest moon and sees sunlight scattering through the periphery of Titan's atmosphere and forming a ring of color.\" data-fancybox-group=\"images\" data-fancybox-href=\"/spaceimages/images/mediumsize/PIA14924_ip.jpg\" data-link=\"/spaceimages/details.php?id=PIA14924\" data-title=\"A Ring of Color\" id=\"full_image\">\n",
      "\t\t\t\t\tFULL IMAGE\n",
      "\t\t\t\t  </a>\n",
      "</footer>\n",
      "</div>\n",
      "<div class=\"gradient_container_top\"></div>\n",
      "<div class=\"gradient_container_bottom\"></div>\n",
      "</article>\n",
      "https://www.jpl.nasa.gov/spaceimages/images/wallpaper/PIA14924-1920x1200.jpg\n"
     ]
    }
   ],
   "source": [
    "marUrl = 'https://www.jpl.nasa.gov/spaceimages/?search=&category=Mars'\n",
    "browser.visit(marUrl)\n",
    "html = browser.html\n",
    "soup = BeautifulSoup(html, 'html.parser')\n",
    "parseUrl =urlparse(f'{marUrl}')\n",
    "main_url = (f'{parseUrl.scheme}://{parseUrl.netloc}')\n",
    "main_url=main_url.replace(' ', '')\n",
    "print(main_url)\n",
    "soup1 = BeautifulSoup(html, 'lxml')\n",
    "a_tag = soup1.find(\"article\", {\"class\":\"carousel_item\"})\n",
    "print(a_tag)\n",
    "html = f'{a_tag}'\n",
    "soup = BeautifulSoup(html)\n",
    "div_style = soup.find('article')['style']\n",
    "style = cssutils.parseStyle(div_style)\n",
    "cur_url = style['background-image']\n",
    "cur_url=cur_url.replace('url(', '').replace(')', '')  \n",
    "print(f'{main_url}{cur_url}')\n",
    "featured_image_url=f'{main_url}{cur_url}'\n",
    "\n",
    "# add to dictionary\n",
    "mars_data ={}\n",
    "mars_data = featured_image_url\n",
    "\n",
    "print(mars_data)"
   ]
  },
  {
   "cell_type": "code",
   "execution_count": 39,
   "metadata": {},
   "outputs": [
    {
     "name": "stdout",
     "output_type": "stream",
     "text": [
      "            description                          value\n",
      "0  Equatorial Diameter:                       6,792 km\n",
      "1       Polar Diameter:                       6,752 km\n",
      "2                 Mass:  6.39 × 10^23 kg (0.11 Earths)\n",
      "3                Moons:            2 (Phobos & Deimos)\n",
      "4       Orbit Distance:       227,943,824 km (1.38 AU)\n",
      "5         Orbit Period:           687 days (1.9 years)\n",
      "6  Surface Temperature:                   -87 to -5 °C\n",
      "7         First Record:              2nd millennium BC\n",
      "8          Recorded By:           Egyptian astronomers\n",
      "<table border=\"1\" class=\"dataframe\">\n",
      "  <tbody>\n",
      "    <tr>\n",
      "      <th>0</th>\n",
      "      <td>Equatorial Diameter:</td>\n",
      "      <td>6,792 km</td>\n",
      "    </tr>\n",
      "    <tr>\n",
      "      <th>1</th>\n",
      "      <td>Polar Diameter:</td>\n",
      "      <td>6,752 km</td>\n",
      "    </tr>\n",
      "    <tr>\n",
      "      <th>2</th>\n",
      "      <td>Mass:</td>\n",
      "      <td>6.39 × 10^23 kg (0.11 Earths)</td>\n",
      "    </tr>\n",
      "    <tr>\n",
      "      <th>3</th>\n",
      "      <td>Moons:</td>\n",
      "      <td>2 (Phobos &amp; Deimos)</td>\n",
      "    </tr>\n",
      "    <tr>\n",
      "      <th>4</th>\n",
      "      <td>Orbit Distance:</td>\n",
      "      <td>227,943,824 km (1.38 AU)</td>\n",
      "    </tr>\n",
      "    <tr>\n",
      "      <th>5</th>\n",
      "      <td>Orbit Period:</td>\n",
      "      <td>687 days (1.9 years)</td>\n",
      "    </tr>\n",
      "    <tr>\n",
      "      <th>6</th>\n",
      "      <td>Surface Temperature:</td>\n",
      "      <td>-87 to -5 °C</td>\n",
      "    </tr>\n",
      "    <tr>\n",
      "      <th>7</th>\n",
      "      <td>First Record:</td>\n",
      "      <td>2nd millennium BC</td>\n",
      "    </tr>\n",
      "    <tr>\n",
      "      <th>8</th>\n",
      "      <td>Recorded By:</td>\n",
      "      <td>Egyptian astronomers</td>\n",
      "    </tr>\n",
      "  </tbody>\n",
      "</table>\n",
      "{'table': '<table border=\"1\" class=\"dataframe\">\\n  <tbody>\\n    <tr>\\n      <th>0</th>\\n      <td>Equatorial Diameter:</td>\\n      <td>6,792 km</td>\\n    </tr>\\n    <tr>\\n      <th>1</th>\\n      <td>Polar Diameter:</td>\\n      <td>6,752 km</td>\\n    </tr>\\n    <tr>\\n      <th>2</th>\\n      <td>Mass:</td>\\n      <td>6.39 × 10^23 kg (0.11 Earths)</td>\\n    </tr>\\n    <tr>\\n      <th>3</th>\\n      <td>Moons:</td>\\n      <td>2 (Phobos &amp; Deimos)</td>\\n    </tr>\\n    <tr>\\n      <th>4</th>\\n      <td>Orbit Distance:</td>\\n      <td>227,943,824 km (1.38 AU)</td>\\n    </tr>\\n    <tr>\\n      <th>5</th>\\n      <td>Orbit Period:</td>\\n      <td>687 days (1.9 years)</td>\\n    </tr>\\n    <tr>\\n      <th>6</th>\\n      <td>Surface Temperature:</td>\\n      <td>-87 to -5 °C</td>\\n    </tr>\\n    <tr>\\n      <th>7</th>\\n      <td>First Record:</td>\\n      <td>2nd millennium BC</td>\\n    </tr>\\n    <tr>\\n      <th>8</th>\\n      <td>Recorded By:</td>\\n      <td>Egyptian astronomers</td>\\n    </tr>\\n  </tbody>\\n</table>'}\n"
     ]
    }
   ],
   "source": [
    "factUrl = 'https://space-facts.com/mars/'\n",
    "tables = pd.read_html(factUrl)\n",
    "df = tables[0]\n",
    "df.columns=['description', 'value']\n",
    "print(df)\n",
    "html_table = df.to_html(header=False)\n",
    "print(html_table)\n",
    "\n",
    "# add to dicttionary\n",
    "mars_data ={}\n",
    "mars_data['table']=html_table\n",
    "print(mars_data)"
   ]
  },
  {
   "cell_type": "code",
   "execution_count": 3,
   "metadata": {},
   "outputs": [
    {
     "name": "stdout",
     "output_type": "stream",
     "text": [
      "https://astrogeology.usgs.gov\n",
      "[{'title': 'Cerberus Hemisphere Enhanced', 'img_url': 'https://astropedia.astrogeology.usgs.gov/download/Mars/Viking/cerberus_enhanced.tif/full.jpg'}, {'title': 'Schiaparelli Hemisphere Enhanced', 'img_url': 'https://astropedia.astrogeology.usgs.gov/download/Mars/Viking/schiaparelli_enhanced.tif/full.jpg'}, {'title': 'Syrtis Major Hemisphere Enhanced', 'img_url': 'https://astropedia.astrogeology.usgs.gov/download/Mars/Viking/syrtis_major_enhanced.tif/full.jpg'}, {'title': 'Valles Marineris Hemisphere Enhanced', 'img_url': 'https://astropedia.astrogeology.usgs.gov/download/Mars/Viking/valles_marineris_enhanced.tif/full.jpg'}]\n"
     ]
    }
   ],
   "source": [
    "hemUrl = 'https://astrogeology.usgs.gov/search/results?q=hemisphere+enhanced&k1=target&v1=Mars'\n",
    "browser.visit(hemUrl)\n",
    "\n",
    "html = browser.html\n",
    "soup = BeautifulSoup(html, 'html.parser')\n",
    "hem_items = soup.find_all('div', class_='item')\n",
    "prsUrl =urlparse(f'{hemUrl}')\n",
    "mainHem_url = (f'{prsUrl.scheme}://{prsUrl.netloc}')\n",
    "mainHem_url=mainHem_url.replace(' ', '')\n",
    "print(mainHem_url)\n",
    "hemisphere_image_urls=[]\n",
    "\n",
    "for h in hem_items :\n",
    "        dicts = {}\n",
    "        title = h.find('h3').text\n",
    "        #print(title)\n",
    "        browser.find_by_text(title).click()\n",
    "        part_url = h.find('a', class_='itemLink product-item')['href']\n",
    "        url = f'{mainHem_url}{part_url}'\n",
    "        #print(url)\n",
    "        browser.visit(url)\n",
    "        html = browser.html\n",
    "        soup = BeautifulSoup(html, 'html.parser')\n",
    "        #print(len(soup.find_all('a',attrs={'target':'_blank'})))\n",
    "        hem_url =soup.find_all('a',attrs={'target':'_blank'})[3]['href']\n",
    "        #print(hem_url)\n",
    "        \n",
    "        \n",
    "        #add title and image in dictionary\n",
    "        dicts['title'] = title\n",
    "        dicts['img_url']= hem_url\n",
    "        \n",
    "        #append dict to list\n",
    "        hemisphere_image_urls.append(dicts)\n",
    "        \n",
    "        browser.visit(hemUrl)\n",
    "print(hemisphere_image_urls)        "
   ]
  },
  {
   "cell_type": "code",
   "execution_count": 28,
   "metadata": {},
   "outputs": [],
   "source": [
    "import pandas as pd\n",
    "from splinter import Browser\n",
    "from bs4 import BeautifulSoup\n",
    "from webdriver_manager.chrome import ChromeDriverManager\n",
    "from selenium.webdriver.common.keys import Keys\n",
    "import time\n",
    "from urllib.parse import urlparse\n",
    "import cssutils\n",
    "\n",
    "def init_browser():\n",
    "    # @NOTE: Replace the path with your actual path to the chromedriver\n",
    "    executable_path = {'executable_path': ChromeDriverManager().install()}\n",
    "    return Browser('chrome', **executable_path, headless=False)\n",
    "    \n",
    "#dictionary\n",
    "mars_data = {}"
   ]
  },
  {
   "cell_type": "code",
   "execution_count": 29,
   "metadata": {},
   "outputs": [],
   "source": [
    "def scrape_hemisphere():\n",
    "    browser = init_browser()\n",
    "    #Mars Hemisphere\n",
    "    \n",
    "    hemUrl = 'https://astrogeology.usgs.gov/search/results?q=hemisphere+enhanced&k1=target&v1=Mars'\n",
    "    browser.visit(hemUrl)\n",
    "\n",
    "    html = browser.html\n",
    "    soup = BeautifulSoup(html, 'html.parser')\n",
    "    hem_items = soup.find_all('div', class_='item')\n",
    "    prsUrl =urlparse(f'{hemUrl}')\n",
    "    mainHem_url = (f'{prsUrl.scheme}://{prsUrl.netloc}')\n",
    "    mainHem_url=mainHem_url.replace(' ', '')\n",
    "    print(mainHem_url)\n",
    "    mars_data=[]\n",
    "\n",
    "    for h in hem_items :\n",
    "        dicts = {}\n",
    "        title = h.find('h3').text\n",
    "        #print(title)\n",
    "        browser.find_by_text(title).click()\n",
    "        part_url = h.find('a', class_='itemLink product-item')['href']\n",
    "        url = f'{mainHem_url}{part_url}'\n",
    "        #print(url)\n",
    "        browser.visit(url)\n",
    "        html = browser.html\n",
    "        soup = BeautifulSoup(html, 'html.parser')\n",
    "        #print(len(soup.find_all('a',attrs={'target':'_blank'})))\n",
    "        hem_url =soup.find_all('a',attrs={'target':'_blank'})[3]['href']\n",
    "        #print(hem_url)\n",
    "        \n",
    "        \n",
    "        #add title and image in dictionary\n",
    "        dicts['title'] = title\n",
    "        dicts['img_url']= hem_url\n",
    "        \n",
    "        #append dict to list\n",
    "        mars_data.append(dicts)\n",
    "        \n",
    "        browser.visit(hemUrl)\n",
    "    #browser.quit()\n",
    "    mars_data=mars_data\n",
    "    return mars_data\n"
   ]
  },
  {
   "cell_type": "code",
   "execution_count": 30,
   "metadata": {},
   "outputs": [
    {
     "name": "stderr",
     "output_type": "stream",
     "text": [
      "[WDM] - Current google-chrome version is 87.0.4280\n",
      "[WDM] - Get LATEST driver version for 87.0.4280\n",
      "[WDM] - Driver [C:\\Users\\nikDev\\.wdm\\drivers\\chromedriver\\win32\\87.0.4280.88\\chromedriver.exe] found in cache\n"
     ]
    },
    {
     "name": "stdout",
     "output_type": "stream",
     "text": [
      " \n",
      "https://astrogeology.usgs.gov\n"
     ]
    },
    {
     "data": {
      "text/plain": [
       "[{'title': 'Cerberus Hemisphere Enhanced',\n",
       "  'img_url': 'https://astropedia.astrogeology.usgs.gov/download/Mars/Viking/cerberus_enhanced.tif/full.jpg'},\n",
       " {'title': 'Schiaparelli Hemisphere Enhanced',\n",
       "  'img_url': 'https://astropedia.astrogeology.usgs.gov/download/Mars/Viking/schiaparelli_enhanced.tif/full.jpg'},\n",
       " {'title': 'Syrtis Major Hemisphere Enhanced',\n",
       "  'img_url': 'https://astropedia.astrogeology.usgs.gov/download/Mars/Viking/syrtis_major_enhanced.tif/full.jpg'},\n",
       " {'title': 'Valles Marineris Hemisphere Enhanced',\n",
       "  'img_url': 'https://astropedia.astrogeology.usgs.gov/download/Mars/Viking/valles_marineris_enhanced.tif/full.jpg'}]"
      ]
     },
     "execution_count": 30,
     "metadata": {},
     "output_type": "execute_result"
    }
   ],
   "source": [
    "scrape_hemisphere()"
   ]
  },
  {
   "cell_type": "code",
   "execution_count": null,
   "metadata": {},
   "outputs": [],
   "source": [
    "browser.quit()"
   ]
  },
  {
   "cell_type": "code",
   "execution_count": null,
   "metadata": {},
   "outputs": [],
   "source": []
  }
 ],
 "metadata": {
  "kernelspec": {
   "display_name": "Python [conda env:PythonData] *",
   "language": "python",
   "name": "conda-env-PythonData-py"
  },
  "language_info": {
   "codemirror_mode": {
    "name": "ipython",
    "version": 3
   },
   "file_extension": ".py",
   "mimetype": "text/x-python",
   "name": "python",
   "nbconvert_exporter": "python",
   "pygments_lexer": "ipython3",
   "version": "3.6.12"
  }
 },
 "nbformat": 4,
 "nbformat_minor": 4
}
